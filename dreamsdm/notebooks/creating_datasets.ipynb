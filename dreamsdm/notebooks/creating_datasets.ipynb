{
 "cells": [
  {
   "cell_type": "markdown",
   "metadata": {},
   "source": [
    "TO DO:\n",
    "\n",
    "1. Create new combined hdf5 file with TRAIN/TEST groups with attributes attached to each galaxy group (save in ceph, not home)\n",
    "2. Create pytorch dataset class to index the hdf file and return (x, y) samples\n",
    "3. Create pytorch dataloaders for train/val/test in <code> /mnt/home/dmohan/dreams-dm/dreamsdm/datamodules.py </code>\n",
    "\n",
    "\n",
    "\n"
   ]
  },
  {
   "cell_type": "markdown",
   "metadata": {},
   "source": []
  },
  {
   "cell_type": "code",
   "execution_count": 1,
   "metadata": {},
   "outputs": [
    {
     "name": "stderr",
     "output_type": "stream",
     "text": [
      "/mnt/sw/nix/store/71ksmx7k6xy3v9ksfkv5mp5kxxp64pd6-python-3.10.13-view/lib/python3.10/site-packages/numpy/core/getlimits.py:549: UserWarning: The value of the smallest subnormal for <class 'numpy.float32'> type is zero.\n",
      "  setattr(self, word, getattr(machar, word).flat[0])\n",
      "/mnt/sw/nix/store/71ksmx7k6xy3v9ksfkv5mp5kxxp64pd6-python-3.10.13-view/lib/python3.10/site-packages/numpy/core/getlimits.py:89: UserWarning: The value of the smallest subnormal for <class 'numpy.float32'> type is zero.\n",
      "  return self._float_to_str(self.smallest_subnormal)\n",
      "/mnt/sw/nix/store/71ksmx7k6xy3v9ksfkv5mp5kxxp64pd6-python-3.10.13-view/lib/python3.10/site-packages/numpy/core/getlimits.py:549: UserWarning: The value of the smallest subnormal for <class 'numpy.float64'> type is zero.\n",
      "  setattr(self, word, getattr(machar, word).flat[0])\n",
      "/mnt/sw/nix/store/71ksmx7k6xy3v9ksfkv5mp5kxxp64pd6-python-3.10.13-view/lib/python3.10/site-packages/numpy/core/getlimits.py:89: UserWarning: The value of the smallest subnormal for <class 'numpy.float64'> type is zero.\n",
      "  return self._float_to_str(self.smallest_subnormal)\n"
     ]
    }
   ],
   "source": [
    "import h5py\n",
    "from pathlib import Path\n",
    "import pandas as pd\n",
    "import os\n",
    "import numpy as"
   ]
  },
  {
   "cell_type": "code",
   "execution_count": 2,
   "metadata": {},
   "outputs": [],
   "source": [
    "## get all the file paths\n",
    "# file_path = '/mnt/ceph/users/fvillaescusa/DREAMS/Software/zoom_images/'\n",
    "# recursive = True\n",
    "# p = Path(file_path) #path to folder containing files\n",
    "# assert(p.is_dir())\n",
    "# if(recursive):\n",
    "#     files = sorted(p.glob('**/*.hdf5'))\n",
    "# else:\n",
    "#     files = sorted(p.glob('*.hdf5'))\n",
    "# if len(files)<1:\n",
    "#     raise RuntimeError('No hdf5 data found')\n",
    "# print(files)"
   ]
  },
  {
   "cell_type": "markdown",
   "metadata": {},
   "source": [
    "create new hdf5 file\n",
    "\n",
    "pseudo code for writing hdf files \n",
    "\n",
    "creating groups for train/test\n",
    "\n",
    "```python\n",
    "with h5py.File(new_file_path, 'w') as hdf:\n",
    "    train_group = hdf.create_group('Train')train_group = hdf.create_group('Train')train_group = hdf.create_group('Train')\n",
    "    train_group.create_dataset('for Galaxy0 to Galaxy800', data = 'for Mgas0 to Mgas342' )\n",
    "    #set attributes\n",
    "\n",
    "    test_group = hdf.create_group('Test')\n",
    "    test_group.create_dataset('for Galaxy 800 to 1024', data = 'for Mgas0 to Mgas342')\n",
    "\n",
    "    #all datasets (Mgas0 to Mgas342) have the same arrtibutes for a particular simulation\n",
    "    dataset.attrs['WDM'] = wdm_mass \n",
    "    dataset.attrs['AGN'] = agn\n",
    "    dataset.attrs['SN1/SN2'] = sn1\n",
    "```"
   ]
  },
  {
   "cell_type": "code",
   "execution_count": 3,
   "metadata": {},
   "outputs": [],
   "source": [
    "file_path = '/mnt/ceph/users/fvillaescusa/DREAMS/Software/zoom_images/'\n",
    "new_file_path = '/mnt/ceph/users/dmohan/dreams/data/dreams/mwzooms_test.hdf5'\n",
    "df = pd.read_csv('/mnt/home/dmohan/dreams-dm/dreamsdm/data/wdm/labels.csv')\n",
    "labels = df"
   ]
  },
  {
   "cell_type": "code",
   "execution_count": 4,
   "metadata": {},
   "outputs": [
    {
     "data": {
      "text/plain": [
       "'Galaxy_0'"
      ]
     },
     "execution_count": 4,
     "metadata": {},
     "output_type": "execute_result"
    }
   ],
   "source": [
    "labels.iloc[0,0]"
   ]
  },
  {
   "cell_type": "code",
   "execution_count": 47,
   "metadata": {},
   "outputs": [],
   "source": []
  },
  {
   "cell_type": "code",
   "execution_count": 5,
   "metadata": {},
   "outputs": [],
   "source": [
    "with h5py.File(new_file_path, \"w\") as hdf:\n",
    "    \n",
    "    train_group = hdf.create_group('Train')\n",
    "    for idx in range(0, 800): #0 to 800\n",
    "        simid = labels.iloc[idx,0]\n",
    "        galaxy_path = os.path.join(file_path, simid)\n",
    "        galaxy_file = h5py.File(galaxy_path+'.hdf5', 'r')    \n",
    "        sim_group = train_group.create_group(simid)\n",
    "        # sim_group.attrs[\"WDM\"] = labels.iloc[idx,1]\n",
    "        # sim_group.attrs[\"SN1\"] = labels.iloc[idx,2]\n",
    "        # sim_group.attrs[\"SN2\"] = labels.iloc[idx,3]\n",
    "        # sim_group.attrs[\"AGN\"] = labels.iloc[idx,4]\n",
    "\n",
    "        for i in range(0, 2): #0 to 343\n",
    "            mgas = 'Mgas_'+str(i)\n",
    "            image = np.array(galaxy_file[mgas])\n",
    "            dataset = sim_group.create_dataset(mgas, data = image )\n",
    "            dataset.attrs[\"WDM\"] = labels.iloc[idx,1]\n",
    "            dataset.attrs[\"SN1\"] = labels.iloc[idx,2]\n",
    "            dataset.attrs[\"SN2\"] = labels.iloc[idx,3]\n",
    "            dataset.attrs[\"AGN\"] = labels.iloc[idx,4]\n",
    "\n",
    "    test_group = hdf.create_group('Test')\n",
    "\n",
    "    for idx in range(800,1024): #800 to 1024\n",
    "        if(idx not in [864, 874, 884, 894, 904, 914, 924, 934, 944, 954, 964, 974, 984, 994, 1004, 1014]):\n",
    "            simid = labels.iloc[idx,0]\n",
    "            galaxy_path = os.path.join(file_path, simid)\n",
    "            galaxy_file = h5py.File(galaxy_path+'.hdf5', 'r')   \n",
    "            sim_group = test_group.create_group(simid)\n",
    "            \n",
    "            for i in range(0, 2):\n",
    "                mgas = 'Mgas_'+str(i)\n",
    "                image = np.array(galaxy_file[mgas])\n",
    "                dataset = sim_group.create_dataset(mgas, data = image )\n",
    "                dataset.attrs[\"WDM\"] = labels.iloc[idx,1]\n",
    "                dataset.attrs[\"SN1\"] = labels.iloc[idx,2]\n",
    "                dataset.attrs[\"SN2\"] = labels.iloc[idx,3]\n",
    "                dataset.attrs[\"AGN\"] = labels.iloc[idx,4]\n",
    "hdf.close()\n"
   ]
  },
  {
   "cell_type": "code",
   "execution_count": 6,
   "metadata": {},
   "outputs": [
    {
     "name": "stdout",
     "output_type": "stream",
     "text": [
      "['Test', 'Train']\n",
      "['Galaxy_0', 'Galaxy_1', 'Galaxy_10', 'Galaxy_100', 'Galaxy_101', 'Galaxy_102', 'Galaxy_103', 'Galaxy_104', 'Galaxy_105', 'Galaxy_106', 'Galaxy_107', 'Galaxy_108', 'Galaxy_109', 'Galaxy_11', 'Galaxy_110', 'Galaxy_111', 'Galaxy_112', 'Galaxy_113', 'Galaxy_114', 'Galaxy_115', 'Galaxy_116', 'Galaxy_117', 'Galaxy_118', 'Galaxy_119', 'Galaxy_12', 'Galaxy_120', 'Galaxy_121', 'Galaxy_122', 'Galaxy_123', 'Galaxy_124', 'Galaxy_125', 'Galaxy_126', 'Galaxy_127', 'Galaxy_128', 'Galaxy_129', 'Galaxy_13', 'Galaxy_130', 'Galaxy_131', 'Galaxy_132', 'Galaxy_133', 'Galaxy_134', 'Galaxy_135', 'Galaxy_136', 'Galaxy_137', 'Galaxy_138', 'Galaxy_139', 'Galaxy_14', 'Galaxy_140', 'Galaxy_141', 'Galaxy_142', 'Galaxy_143', 'Galaxy_144', 'Galaxy_145', 'Galaxy_146', 'Galaxy_147', 'Galaxy_148', 'Galaxy_149', 'Galaxy_15', 'Galaxy_150', 'Galaxy_151', 'Galaxy_152', 'Galaxy_153', 'Galaxy_154', 'Galaxy_155', 'Galaxy_156', 'Galaxy_157', 'Galaxy_158', 'Galaxy_159', 'Galaxy_16', 'Galaxy_160', 'Galaxy_161', 'Galaxy_162', 'Galaxy_163', 'Galaxy_164', 'Galaxy_165', 'Galaxy_166', 'Galaxy_167', 'Galaxy_168', 'Galaxy_169', 'Galaxy_17', 'Galaxy_170', 'Galaxy_171', 'Galaxy_172', 'Galaxy_173', 'Galaxy_174', 'Galaxy_175', 'Galaxy_176', 'Galaxy_177', 'Galaxy_178', 'Galaxy_179', 'Galaxy_18', 'Galaxy_180', 'Galaxy_181', 'Galaxy_182', 'Galaxy_183', 'Galaxy_184', 'Galaxy_185', 'Galaxy_186', 'Galaxy_187', 'Galaxy_188', 'Galaxy_189', 'Galaxy_19', 'Galaxy_190', 'Galaxy_191', 'Galaxy_192', 'Galaxy_193', 'Galaxy_194', 'Galaxy_195', 'Galaxy_196', 'Galaxy_197', 'Galaxy_198', 'Galaxy_199', 'Galaxy_2', 'Galaxy_20', 'Galaxy_200', 'Galaxy_201', 'Galaxy_202', 'Galaxy_203', 'Galaxy_204', 'Galaxy_205', 'Galaxy_206', 'Galaxy_207', 'Galaxy_208', 'Galaxy_209', 'Galaxy_21', 'Galaxy_210', 'Galaxy_211', 'Galaxy_212', 'Galaxy_213', 'Galaxy_214', 'Galaxy_215', 'Galaxy_216', 'Galaxy_217', 'Galaxy_218', 'Galaxy_219', 'Galaxy_22', 'Galaxy_220', 'Galaxy_221', 'Galaxy_222', 'Galaxy_223', 'Galaxy_224', 'Galaxy_225', 'Galaxy_226', 'Galaxy_227', 'Galaxy_228', 'Galaxy_229', 'Galaxy_23', 'Galaxy_230', 'Galaxy_231', 'Galaxy_232', 'Galaxy_233', 'Galaxy_234', 'Galaxy_235', 'Galaxy_236', 'Galaxy_237', 'Galaxy_238', 'Galaxy_239', 'Galaxy_24', 'Galaxy_240', 'Galaxy_241', 'Galaxy_242', 'Galaxy_243', 'Galaxy_244', 'Galaxy_245', 'Galaxy_246', 'Galaxy_247', 'Galaxy_248', 'Galaxy_249', 'Galaxy_25', 'Galaxy_250', 'Galaxy_251', 'Galaxy_252', 'Galaxy_253', 'Galaxy_254', 'Galaxy_255', 'Galaxy_256', 'Galaxy_257', 'Galaxy_258', 'Galaxy_259', 'Galaxy_26', 'Galaxy_260', 'Galaxy_261', 'Galaxy_262', 'Galaxy_263', 'Galaxy_264', 'Galaxy_265', 'Galaxy_266', 'Galaxy_267', 'Galaxy_268', 'Galaxy_269', 'Galaxy_27', 'Galaxy_270', 'Galaxy_271', 'Galaxy_272', 'Galaxy_273', 'Galaxy_274', 'Galaxy_275', 'Galaxy_276', 'Galaxy_277', 'Galaxy_278', 'Galaxy_279', 'Galaxy_28', 'Galaxy_280', 'Galaxy_281', 'Galaxy_282', 'Galaxy_283', 'Galaxy_284', 'Galaxy_285', 'Galaxy_286', 'Galaxy_287', 'Galaxy_288', 'Galaxy_289', 'Galaxy_29', 'Galaxy_290', 'Galaxy_291', 'Galaxy_292', 'Galaxy_293', 'Galaxy_294', 'Galaxy_295', 'Galaxy_296', 'Galaxy_297', 'Galaxy_298', 'Galaxy_299', 'Galaxy_3', 'Galaxy_30', 'Galaxy_300', 'Galaxy_301', 'Galaxy_302', 'Galaxy_303', 'Galaxy_304', 'Galaxy_305', 'Galaxy_306', 'Galaxy_307', 'Galaxy_308', 'Galaxy_309', 'Galaxy_31', 'Galaxy_310', 'Galaxy_311', 'Galaxy_312', 'Galaxy_313', 'Galaxy_314', 'Galaxy_315', 'Galaxy_316', 'Galaxy_317', 'Galaxy_318', 'Galaxy_319', 'Galaxy_32', 'Galaxy_320', 'Galaxy_321', 'Galaxy_322', 'Galaxy_323', 'Galaxy_324', 'Galaxy_325', 'Galaxy_326', 'Galaxy_327', 'Galaxy_328', 'Galaxy_329', 'Galaxy_33', 'Galaxy_330', 'Galaxy_331', 'Galaxy_332', 'Galaxy_333', 'Galaxy_334', 'Galaxy_335', 'Galaxy_336', 'Galaxy_337', 'Galaxy_338', 'Galaxy_339', 'Galaxy_34', 'Galaxy_340', 'Galaxy_341', 'Galaxy_342', 'Galaxy_343', 'Galaxy_344', 'Galaxy_345', 'Galaxy_346', 'Galaxy_347', 'Galaxy_348', 'Galaxy_349', 'Galaxy_35', 'Galaxy_350', 'Galaxy_351', 'Galaxy_352', 'Galaxy_353', 'Galaxy_354', 'Galaxy_355', 'Galaxy_356', 'Galaxy_357', 'Galaxy_358', 'Galaxy_359', 'Galaxy_36', 'Galaxy_360', 'Galaxy_361', 'Galaxy_362', 'Galaxy_363', 'Galaxy_364', 'Galaxy_365', 'Galaxy_366', 'Galaxy_367', 'Galaxy_368', 'Galaxy_369', 'Galaxy_37', 'Galaxy_370', 'Galaxy_371', 'Galaxy_372', 'Galaxy_373', 'Galaxy_374', 'Galaxy_375', 'Galaxy_376', 'Galaxy_377', 'Galaxy_378', 'Galaxy_379', 'Galaxy_38', 'Galaxy_380', 'Galaxy_381', 'Galaxy_382', 'Galaxy_383', 'Galaxy_384', 'Galaxy_385', 'Galaxy_386', 'Galaxy_387', 'Galaxy_388', 'Galaxy_389', 'Galaxy_39', 'Galaxy_390', 'Galaxy_391', 'Galaxy_392', 'Galaxy_393', 'Galaxy_394', 'Galaxy_395', 'Galaxy_396', 'Galaxy_397', 'Galaxy_398', 'Galaxy_399', 'Galaxy_4', 'Galaxy_40', 'Galaxy_400', 'Galaxy_401', 'Galaxy_402', 'Galaxy_403', 'Galaxy_404', 'Galaxy_405', 'Galaxy_406', 'Galaxy_407', 'Galaxy_408', 'Galaxy_409', 'Galaxy_41', 'Galaxy_410', 'Galaxy_411', 'Galaxy_412', 'Galaxy_413', 'Galaxy_414', 'Galaxy_415', 'Galaxy_416', 'Galaxy_417', 'Galaxy_418', 'Galaxy_419', 'Galaxy_42', 'Galaxy_420', 'Galaxy_421', 'Galaxy_422', 'Galaxy_423', 'Galaxy_424', 'Galaxy_425', 'Galaxy_426', 'Galaxy_427', 'Galaxy_428', 'Galaxy_429', 'Galaxy_43', 'Galaxy_430', 'Galaxy_431', 'Galaxy_432', 'Galaxy_433', 'Galaxy_434', 'Galaxy_435', 'Galaxy_436', 'Galaxy_437', 'Galaxy_438', 'Galaxy_439', 'Galaxy_44', 'Galaxy_440', 'Galaxy_441', 'Galaxy_442', 'Galaxy_443', 'Galaxy_444', 'Galaxy_445', 'Galaxy_446', 'Galaxy_447', 'Galaxy_448', 'Galaxy_449', 'Galaxy_45', 'Galaxy_450', 'Galaxy_451', 'Galaxy_452', 'Galaxy_453', 'Galaxy_454', 'Galaxy_455', 'Galaxy_456', 'Galaxy_457', 'Galaxy_458', 'Galaxy_459', 'Galaxy_46', 'Galaxy_460', 'Galaxy_461', 'Galaxy_462', 'Galaxy_463', 'Galaxy_464', 'Galaxy_465', 'Galaxy_466', 'Galaxy_467', 'Galaxy_468', 'Galaxy_469', 'Galaxy_47', 'Galaxy_470', 'Galaxy_471', 'Galaxy_472', 'Galaxy_473', 'Galaxy_474', 'Galaxy_475', 'Galaxy_476', 'Galaxy_477', 'Galaxy_478', 'Galaxy_479', 'Galaxy_48', 'Galaxy_480', 'Galaxy_481', 'Galaxy_482', 'Galaxy_483', 'Galaxy_484', 'Galaxy_485', 'Galaxy_486', 'Galaxy_487', 'Galaxy_488', 'Galaxy_489', 'Galaxy_49', 'Galaxy_490', 'Galaxy_491', 'Galaxy_492', 'Galaxy_493', 'Galaxy_494', 'Galaxy_495', 'Galaxy_496', 'Galaxy_497', 'Galaxy_498', 'Galaxy_499', 'Galaxy_5', 'Galaxy_50', 'Galaxy_500', 'Galaxy_501', 'Galaxy_502', 'Galaxy_503', 'Galaxy_504', 'Galaxy_505', 'Galaxy_506', 'Galaxy_507', 'Galaxy_508', 'Galaxy_509', 'Galaxy_51', 'Galaxy_510', 'Galaxy_511', 'Galaxy_512', 'Galaxy_513', 'Galaxy_514', 'Galaxy_515', 'Galaxy_516', 'Galaxy_517', 'Galaxy_518', 'Galaxy_519', 'Galaxy_52', 'Galaxy_520', 'Galaxy_521', 'Galaxy_522', 'Galaxy_523', 'Galaxy_524', 'Galaxy_525', 'Galaxy_526', 'Galaxy_527', 'Galaxy_528', 'Galaxy_529', 'Galaxy_53', 'Galaxy_530', 'Galaxy_531', 'Galaxy_532', 'Galaxy_533', 'Galaxy_534', 'Galaxy_535', 'Galaxy_536', 'Galaxy_537', 'Galaxy_538', 'Galaxy_539', 'Galaxy_54', 'Galaxy_540', 'Galaxy_541', 'Galaxy_542', 'Galaxy_543', 'Galaxy_544', 'Galaxy_545', 'Galaxy_546', 'Galaxy_547', 'Galaxy_548', 'Galaxy_549', 'Galaxy_55', 'Galaxy_550', 'Galaxy_551', 'Galaxy_552', 'Galaxy_553', 'Galaxy_554', 'Galaxy_555', 'Galaxy_556', 'Galaxy_557', 'Galaxy_558', 'Galaxy_559', 'Galaxy_56', 'Galaxy_560', 'Galaxy_561', 'Galaxy_562', 'Galaxy_563', 'Galaxy_564', 'Galaxy_565', 'Galaxy_566', 'Galaxy_567', 'Galaxy_568', 'Galaxy_569', 'Galaxy_57', 'Galaxy_570', 'Galaxy_571', 'Galaxy_572', 'Galaxy_573', 'Galaxy_574', 'Galaxy_575', 'Galaxy_576', 'Galaxy_577', 'Galaxy_578', 'Galaxy_579', 'Galaxy_58', 'Galaxy_580', 'Galaxy_581', 'Galaxy_582', 'Galaxy_583', 'Galaxy_584', 'Galaxy_585', 'Galaxy_586', 'Galaxy_587', 'Galaxy_588', 'Galaxy_589', 'Galaxy_59', 'Galaxy_590', 'Galaxy_591', 'Galaxy_592', 'Galaxy_593', 'Galaxy_594', 'Galaxy_595', 'Galaxy_596', 'Galaxy_597', 'Galaxy_598', 'Galaxy_599', 'Galaxy_6', 'Galaxy_60', 'Galaxy_600', 'Galaxy_601', 'Galaxy_602', 'Galaxy_603', 'Galaxy_604', 'Galaxy_605', 'Galaxy_606', 'Galaxy_607', 'Galaxy_608', 'Galaxy_609', 'Galaxy_61', 'Galaxy_610', 'Galaxy_611', 'Galaxy_612', 'Galaxy_613', 'Galaxy_614', 'Galaxy_615', 'Galaxy_616', 'Galaxy_617', 'Galaxy_618', 'Galaxy_619', 'Galaxy_62', 'Galaxy_620', 'Galaxy_621', 'Galaxy_622', 'Galaxy_623', 'Galaxy_624', 'Galaxy_625', 'Galaxy_626', 'Galaxy_627', 'Galaxy_628', 'Galaxy_629', 'Galaxy_63', 'Galaxy_630', 'Galaxy_631', 'Galaxy_632', 'Galaxy_633', 'Galaxy_634', 'Galaxy_635', 'Galaxy_636', 'Galaxy_637', 'Galaxy_638', 'Galaxy_639', 'Galaxy_64', 'Galaxy_640', 'Galaxy_641', 'Galaxy_642', 'Galaxy_643', 'Galaxy_644', 'Galaxy_645', 'Galaxy_646', 'Galaxy_647', 'Galaxy_648', 'Galaxy_649', 'Galaxy_65', 'Galaxy_650', 'Galaxy_651', 'Galaxy_652', 'Galaxy_653', 'Galaxy_654', 'Galaxy_655', 'Galaxy_656', 'Galaxy_657', 'Galaxy_658', 'Galaxy_659', 'Galaxy_66', 'Galaxy_660', 'Galaxy_661', 'Galaxy_662', 'Galaxy_663', 'Galaxy_664', 'Galaxy_665', 'Galaxy_666', 'Galaxy_667', 'Galaxy_668', 'Galaxy_669', 'Galaxy_67', 'Galaxy_670', 'Galaxy_671', 'Galaxy_672', 'Galaxy_673', 'Galaxy_674', 'Galaxy_675', 'Galaxy_676', 'Galaxy_677', 'Galaxy_678', 'Galaxy_679', 'Galaxy_68', 'Galaxy_680', 'Galaxy_681', 'Galaxy_682', 'Galaxy_683', 'Galaxy_684', 'Galaxy_685', 'Galaxy_686', 'Galaxy_687', 'Galaxy_688', 'Galaxy_689', 'Galaxy_69', 'Galaxy_690', 'Galaxy_691', 'Galaxy_692', 'Galaxy_693', 'Galaxy_694', 'Galaxy_695', 'Galaxy_696', 'Galaxy_697', 'Galaxy_698', 'Galaxy_699', 'Galaxy_7', 'Galaxy_70', 'Galaxy_700', 'Galaxy_701', 'Galaxy_702', 'Galaxy_703', 'Galaxy_704', 'Galaxy_705', 'Galaxy_706', 'Galaxy_707', 'Galaxy_708', 'Galaxy_709', 'Galaxy_71', 'Galaxy_710', 'Galaxy_711', 'Galaxy_712', 'Galaxy_713', 'Galaxy_714', 'Galaxy_715', 'Galaxy_716', 'Galaxy_717', 'Galaxy_718', 'Galaxy_719', 'Galaxy_72', 'Galaxy_720', 'Galaxy_721', 'Galaxy_722', 'Galaxy_723', 'Galaxy_724', 'Galaxy_725', 'Galaxy_726', 'Galaxy_727', 'Galaxy_728', 'Galaxy_729', 'Galaxy_73', 'Galaxy_730', 'Galaxy_731', 'Galaxy_732', 'Galaxy_733', 'Galaxy_734', 'Galaxy_735', 'Galaxy_736', 'Galaxy_737', 'Galaxy_738', 'Galaxy_739', 'Galaxy_74', 'Galaxy_740', 'Galaxy_741', 'Galaxy_742', 'Galaxy_743', 'Galaxy_744', 'Galaxy_745', 'Galaxy_746', 'Galaxy_747', 'Galaxy_748', 'Galaxy_749', 'Galaxy_75', 'Galaxy_750', 'Galaxy_751', 'Galaxy_752', 'Galaxy_753', 'Galaxy_754', 'Galaxy_755', 'Galaxy_756', 'Galaxy_757', 'Galaxy_758', 'Galaxy_759', 'Galaxy_76', 'Galaxy_760', 'Galaxy_761', 'Galaxy_762', 'Galaxy_763', 'Galaxy_764', 'Galaxy_765', 'Galaxy_766', 'Galaxy_767', 'Galaxy_768', 'Galaxy_769', 'Galaxy_77', 'Galaxy_770', 'Galaxy_771', 'Galaxy_772', 'Galaxy_773', 'Galaxy_774', 'Galaxy_775', 'Galaxy_776', 'Galaxy_777', 'Galaxy_778', 'Galaxy_779', 'Galaxy_78', 'Galaxy_780', 'Galaxy_781', 'Galaxy_782', 'Galaxy_783', 'Galaxy_784', 'Galaxy_785', 'Galaxy_786', 'Galaxy_787', 'Galaxy_788', 'Galaxy_789', 'Galaxy_79', 'Galaxy_790', 'Galaxy_791', 'Galaxy_792', 'Galaxy_793', 'Galaxy_794', 'Galaxy_795', 'Galaxy_796', 'Galaxy_797', 'Galaxy_798', 'Galaxy_799', 'Galaxy_8', 'Galaxy_80', 'Galaxy_81', 'Galaxy_82', 'Galaxy_83', 'Galaxy_84', 'Galaxy_85', 'Galaxy_86', 'Galaxy_87', 'Galaxy_88', 'Galaxy_89', 'Galaxy_9', 'Galaxy_90', 'Galaxy_91', 'Galaxy_92', 'Galaxy_93', 'Galaxy_94', 'Galaxy_95', 'Galaxy_96', 'Galaxy_97', 'Galaxy_98', 'Galaxy_99']\n",
      "['Mgas_0', 'Mgas_1']\n",
      "<HDF5 dataset \"Mgas_0\": shape (512, 512), type \"<f4\">\n",
      "0.064895\n",
      "['Galaxy_1000', 'Galaxy_1001', 'Galaxy_1002', 'Galaxy_1003', 'Galaxy_1005', 'Galaxy_1006', 'Galaxy_1007', 'Galaxy_1008', 'Galaxy_1009', 'Galaxy_1010', 'Galaxy_1011', 'Galaxy_1012', 'Galaxy_1013', 'Galaxy_1015', 'Galaxy_1016', 'Galaxy_1017', 'Galaxy_1018', 'Galaxy_1019', 'Galaxy_1020', 'Galaxy_1021', 'Galaxy_1022', 'Galaxy_1023', 'Galaxy_800', 'Galaxy_801', 'Galaxy_802', 'Galaxy_803', 'Galaxy_804', 'Galaxy_805', 'Galaxy_806', 'Galaxy_807', 'Galaxy_808', 'Galaxy_809', 'Galaxy_810', 'Galaxy_811', 'Galaxy_812', 'Galaxy_813', 'Galaxy_814', 'Galaxy_815', 'Galaxy_816', 'Galaxy_817', 'Galaxy_818', 'Galaxy_819', 'Galaxy_820', 'Galaxy_821', 'Galaxy_822', 'Galaxy_823', 'Galaxy_824', 'Galaxy_825', 'Galaxy_826', 'Galaxy_827', 'Galaxy_828', 'Galaxy_829', 'Galaxy_830', 'Galaxy_831', 'Galaxy_832', 'Galaxy_833', 'Galaxy_834', 'Galaxy_835', 'Galaxy_836', 'Galaxy_837', 'Galaxy_838', 'Galaxy_839', 'Galaxy_840', 'Galaxy_841', 'Galaxy_842', 'Galaxy_843', 'Galaxy_844', 'Galaxy_845', 'Galaxy_846', 'Galaxy_847', 'Galaxy_848', 'Galaxy_849', 'Galaxy_850', 'Galaxy_851', 'Galaxy_852', 'Galaxy_853', 'Galaxy_854', 'Galaxy_855', 'Galaxy_856', 'Galaxy_857', 'Galaxy_858', 'Galaxy_859', 'Galaxy_860', 'Galaxy_861', 'Galaxy_862', 'Galaxy_863', 'Galaxy_865', 'Galaxy_866', 'Galaxy_867', 'Galaxy_868', 'Galaxy_869', 'Galaxy_870', 'Galaxy_871', 'Galaxy_872', 'Galaxy_873', 'Galaxy_875', 'Galaxy_876', 'Galaxy_877', 'Galaxy_878', 'Galaxy_879', 'Galaxy_880', 'Galaxy_881', 'Galaxy_882', 'Galaxy_883', 'Galaxy_885', 'Galaxy_886', 'Galaxy_887', 'Galaxy_888', 'Galaxy_889', 'Galaxy_890', 'Galaxy_891', 'Galaxy_892', 'Galaxy_893', 'Galaxy_895', 'Galaxy_896', 'Galaxy_897', 'Galaxy_898', 'Galaxy_899', 'Galaxy_900', 'Galaxy_901', 'Galaxy_902', 'Galaxy_903', 'Galaxy_905', 'Galaxy_906', 'Galaxy_907', 'Galaxy_908', 'Galaxy_909', 'Galaxy_910', 'Galaxy_911', 'Galaxy_912', 'Galaxy_913', 'Galaxy_915', 'Galaxy_916', 'Galaxy_917', 'Galaxy_918', 'Galaxy_919', 'Galaxy_920', 'Galaxy_921', 'Galaxy_922', 'Galaxy_923', 'Galaxy_925', 'Galaxy_926', 'Galaxy_927', 'Galaxy_928', 'Galaxy_929', 'Galaxy_930', 'Galaxy_931', 'Galaxy_932', 'Galaxy_933', 'Galaxy_935', 'Galaxy_936', 'Galaxy_937', 'Galaxy_938', 'Galaxy_939', 'Galaxy_940', 'Galaxy_941', 'Galaxy_942', 'Galaxy_943', 'Galaxy_945', 'Galaxy_946', 'Galaxy_947', 'Galaxy_948', 'Galaxy_949', 'Galaxy_950', 'Galaxy_951', 'Galaxy_952', 'Galaxy_953', 'Galaxy_955', 'Galaxy_956', 'Galaxy_957', 'Galaxy_958', 'Galaxy_959', 'Galaxy_960', 'Galaxy_961', 'Galaxy_962', 'Galaxy_963', 'Galaxy_965', 'Galaxy_966', 'Galaxy_967', 'Galaxy_968', 'Galaxy_969', 'Galaxy_970', 'Galaxy_971', 'Galaxy_972', 'Galaxy_973', 'Galaxy_975', 'Galaxy_976', 'Galaxy_977', 'Galaxy_978', 'Galaxy_979', 'Galaxy_980', 'Galaxy_981', 'Galaxy_982', 'Galaxy_983', 'Galaxy_985', 'Galaxy_986', 'Galaxy_987', 'Galaxy_988', 'Galaxy_989', 'Galaxy_990', 'Galaxy_991', 'Galaxy_992', 'Galaxy_993', 'Galaxy_995', 'Galaxy_996', 'Galaxy_997', 'Galaxy_998', 'Galaxy_999']\n",
      "['Mgas_0', 'Mgas_1']\n",
      "<HDF5 dataset \"Mgas_0\": shape (512, 512), type \"<f4\">\n",
      "0.034559\n"
     ]
    }
   ],
   "source": [
    "with h5py.File(new_file_path, \"r\") as hdf:\n",
    "    ls = list(hdf.keys())\n",
    "    print(ls)\n",
    "    \n",
    "    print(list(hdf['Train'].keys()))\n",
    "    print(list(hdf['Train']['Galaxy_0'].keys()))\n",
    "    data = hdf['Train']['Galaxy_0']['Mgas_0'] #.get('Mgas_0')\n",
    "    print(data)\n",
    "    # print(np.array(data))\n",
    "    print(hdf['Train']['Galaxy_0']['Mgas_0'] .attrs[\"WDM\"])\n",
    "\n",
    "    print(list(hdf['Test'].keys()))\n",
    "    print(list(hdf['Test']['Galaxy_800'].keys()))\n",
    "    data = hdf['Test']['Galaxy_800'].get('Mgas_0')\n",
    "    print(data)\n",
    "    print(hdf['Test']['Galaxy_800']['Mgas_0'].attrs[\"WDM\"])"
   ]
  },
  {
   "cell_type": "code",
   "execution_count": 12,
   "metadata": {},
   "outputs": [
    {
     "name": "stdout",
     "output_type": "stream",
     "text": [
      "875\n"
     ]
    }
   ],
   "source": [
    "index = \n",
    "\n",
    "if(index not in [864, 874]):\n",
    "    print(index)"
   ]
  }
 ],
 "metadata": {
  "kernelspec": {
   "display_name": "dmkernel",
   "language": "python",
   "name": "dmkernel"
  },
  "language_info": {
   "codemirror_mode": {
    "name": "ipython",
    "version": 3
   },
   "file_extension": ".py",
   "mimetype": "text/x-python",
   "name": "python",
   "nbconvert_exporter": "python",
   "pygments_lexer": "ipython3",
   "version": "3.10.13"
  }
 },
 "nbformat": 4,
 "nbformat_minor": 2
}
